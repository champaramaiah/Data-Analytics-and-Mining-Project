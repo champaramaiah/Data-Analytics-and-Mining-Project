{
 "cells": [
  {
   "cell_type": "code",
   "execution_count": 1,
   "metadata": {
    "collapsed": false
   },
   "outputs": [
    {
     "name": "stdout",
     "output_type": "stream",
     "text": [
      "\u001b[1;46m\n",
      "DecisionTreeClassifier Test Results :\u001b[0m\n",
      "[[    0 82183]\n",
      " [    1   903]]\n",
      "population: 83086\n",
      "P: 903\n",
      "N: 82183\n",
      "PositiveTest: 903\n",
      "NegativeTest: 82183\n",
      "TP: 903\n",
      "TN: 82183\n",
      "FP: 0\n",
      "FN: 0\n",
      "TPR: 1.0\n",
      "TNR: 1.0\n",
      "PPV: 1.0\n",
      "NPV: 1.0\n",
      "FPR: 0.0\n",
      "FDR: 0.0\n",
      "FNR: 0.0\n",
      "ACC: 1.0\n",
      "F1_score: 1.0\n",
      "MCC: 1.0\n",
      "informedness: 1.0\n",
      "markedness: 1.0\n",
      "prevalence: 0.0108682569867\n",
      "LRP: inf\n",
      "LRN: 0.0\n",
      "DOR: inf\n",
      "FOR: 0.0\n"
     ]
    }
   ],
   "source": [
    "import numpy as np\n",
    "import pandas as pd\n",
    "from scipy.stats import itemfreq\n",
    "from sklearn.tree import DecisionTreeClassifier\n",
    "from pandas_ml import ConfusionMatrix\n",
    "\n",
    "# Reading the data from csv\n",
    "train = pd.read_csv(\"C:/Users/User/workspace/LOCAL_PROJECT/DM/0514/UK_Road_Accidents_Hotspots_0514.csv\")\n",
    "test = pd.read_csv(\"C:/Users/User/workspace/LOCAL_PROJECT/DM/2015/UK_Road_Accidents_Hotspots_2015.csv\")\n",
    "\n",
    "# Training and Test data\n",
    "trainData = pd.DataFrame.as_matrix(train[['Longitude','Latitude','Accident_Severity','Number_of_Vehicles','Number_of_Casualties','Day_of_Week','Road_Type','Speed_limit','Junction_Detail','Light_Conditions','Weather_Conditions','Road_Surface_Conditions','Special_Conditions_at_Site','Urban_or_Rural_Area','Casualty_Class','Casualty_Type','Vehicle_Type','Vehicle_Manoeuvre','Junction_Location','Sex_of_Driver','Age_Band_of_Driver','Age_of_Vehicle','Year','Month']])\n",
    "trainTarget = pd.DataFrame.as_matrix(train[['Hotspots']]).ravel()\n",
    "testData = pd.DataFrame.as_matrix(test[['Longitude','Latitude','Accident_Severity','Number_of_Vehicles','Number_of_Casualties','Day_of_Week','Road_Type','Speed_limit','Junction_Detail','Light_Conditions','Weather_Conditions','Road_Surface_Conditions','Special_Conditions_at_Site','Urban_or_Rural_Area','Casualty_Class','Casualty_Type','Vehicle_Type','Vehicle_Manoeuvre','Junction_Location','Sex_of_Driver','Age_Band_of_Driver','Age_of_Vehicle','Year','Month']])\n",
    "testTarget = pd.DataFrame.as_matrix(test[['Hotspots']]).ravel()\n",
    "\n",
    "#Applying Decision Tree Classification Algorithm\n",
    "classifier = DecisionTreeClassifier()\n",
    "classifier.fit(trainData, trainTarget)\n",
    "#predictedValues1 = classifier.predict(trainData)\n",
    "\n",
    "#classifier.fit(testData, testTarget)\n",
    "#Prediciting test data\n",
    "predictedValues2 = classifier.predict(testData)\n",
    "\n",
    "#Calculating Accuracy of the model\n",
    "#cm1=ConfusionMatrix(trainTarget,predictedValues1)\n",
    "cm2=ConfusionMatrix(testTarget,predictedValues2)\n",
    "\n",
    "#print('\\x1b[1;46m'+'Training Results :'+'\\x1b[0m')\n",
    "#print(itemfreq(predictedValues1))\n",
    "#cm1.print_stats()\n",
    "\n",
    "print('\\x1b[1;46m'+'\\nDecisionTreeClassifier Test Results :'+'\\x1b[0m')\n",
    "print(itemfreq(predictedValues2))\n",
    "cm2.print_stats()"
   ]
  },
  {
   "cell_type": "code",
   "execution_count": null,
   "metadata": {
    "collapsed": true
   },
   "outputs": [],
   "source": []
  }
 ],
 "metadata": {
  "kernelspec": {
   "display_name": "Python [conda root]",
   "language": "python",
   "name": "conda-root-py"
  },
  "language_info": {
   "codemirror_mode": {
    "name": "ipython",
    "version": 3
   },
   "file_extension": ".py",
   "mimetype": "text/x-python",
   "name": "python",
   "nbconvert_exporter": "python",
   "pygments_lexer": "ipython3",
   "version": "3.5.2"
  }
 },
 "nbformat": 4,
 "nbformat_minor": 1
}
