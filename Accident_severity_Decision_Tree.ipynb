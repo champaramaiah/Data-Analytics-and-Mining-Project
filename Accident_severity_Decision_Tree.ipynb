{
 "cells": [
  {
   "cell_type": "code",
   "execution_count": null,
   "metadata": {
    "collapsed": true
   },
   "outputs": [],
   "source": [
    "import pandas as pd\n",
    "import pandas_ml as pdml\n",
    "import numpy as np\n",
    "from scipy.stats import itemfreq\n",
    "from sklearn.tree import DecisionTreeClassifier\n",
    "from sklearn.metrics import accuracy_score\n",
    "\n",
    "# Reading the data from csv\n",
    "train = pd.read_csv(\"C:\\Users\\Anjana\\Desktop\\DM\\UK_Road_Accidents_Severity_0514.csv\")\n",
    "test = pd.read_csv(\"C:\\Users\\Anjana\\Desktop\\DM\\UK_Road_Accidents_Severity_2015.csv\")\n",
    "\n",
    "# Train and test data\n",
    "trainData=pd.DataFrame.as_matrix(train[['Number_of_Vehicles','Number_of_Casualties','Day_of_Week','Road_Type','Speed_limit','Junction_Detail','Light_Conditions','Weather_Conditions','Road_Surface_Conditions','Special_Conditions_at_Site','Urban_or_Rural_Area','Casualty_Class','Casualty_Type','Vehicle_Type','Vehicle_Manoeuvre','Junction_Location','Sex_of_Driver','Age_Band_of_Driver','Age_of_Vehicle','Year','Month']])\n",
    "trainTarget = pd.DataFrame.as_matrix(train[[\"Accident_Severity\"]]).ravel()\n",
    "testData = pd.DataFrame.as_matrix(test[['Number_of_Vehicles','Number_of_Casualties','Day_of_Week','Road_Type','Speed_limit','Junction_Detail','Light_Conditions','Weather_Conditions','Road_Surface_Conditions','Special_Conditions_at_Site','Urban_or_Rural_Area','Casualty_Class','Casualty_Type','Vehicle_Type','Vehicle_Manoeuvre','Junction_Location','Sex_of_Driver','Age_Band_of_Driver','Age_of_Vehicle','Year','Month']])\n",
    "testTarget = pd.DataFrame.as_matrix(test[['Accident_Severity']]).ravel()\n",
    "\n",
    "#Applying Decision Tree Algorithm\n",
    "clf =DecisionTreeClassifier(max_depth=10)\n",
    "clf.fit(trainData, trainTarget)\n",
    "predictedValues1 = clf.predict(testData)\n",
    "print('\\x1b[1;46m'+'\\nTest Results :'+'\\x1b[0m')\n",
    "print(itemfreq(predictedValues1))\n",
    "\n",
    "#Predicting Accuracy\n",
    "'Decision tree accuracy is ' + str(accuracy_score(testTarget,predictedValues1))"
   ]
  }
 ],
 "metadata": {
  "kernelspec": {
   "display_name": "Python [conda root]",
   "language": "python",
   "name": "conda-root-py"
  },
  "language_info": {
   "codemirror_mode": {
    "name": "ipython",
    "version": 3
   },
   "file_extension": ".py",
   "mimetype": "text/x-python",
   "name": "python",
   "nbconvert_exporter": "python",
   "pygments_lexer": "ipython3",
   "version": "3.5.2"
  }
 },
 "nbformat": 4,
 "nbformat_minor": 1
}
