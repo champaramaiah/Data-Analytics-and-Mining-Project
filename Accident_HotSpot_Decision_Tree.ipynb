{
 "cells": [
  {
   "cell_type": "code",
   "execution_count": 2,
   "metadata": {
    "collapsed": false
   },
   "outputs": [
    {
     "name": "stdout",
     "output_type": "stream",
     "text": [
      "\u001b[1;46m\n",
      "RandomForestClassifier Test Results :\u001b[0m\n",
      "[[    0 82140]\n",
      " [    1   946]]\n",
      "population: 83086\n",
      "P: 903\n",
      "N: 82183\n",
      "PositiveTest: 946\n",
      "NegativeTest: 82140\n",
      "TP: 898\n",
      "TN: 82135\n",
      "FP: 48\n",
      "FN: 5\n",
      "TPR: 0.99446290144\n",
      "TNR: 0.999415937603\n",
      "PPV: 0.949260042283\n",
      "NPV: 0.999939128318\n",
      "FPR: 0.000584062397333\n",
      "FDR: 0.0507399577167\n",
      "FNR: 0.00553709856035\n",
      "ACC: 0.999362106733\n",
      "F1_score: 0.97133585722\n",
      "MCC: 0.971282126726\n",
      "informedness: 0.993878839042\n",
      "markedness: 0.949199170601\n",
      "prevalence: 0.0108682569867\n",
      "LRP: 1702.6655131\n",
      "LRN: 0.00554033446138\n",
      "DOR: 307321.791667\n",
      "FOR: 6.08716824933e-05\n"
     ]
    }
   ],
   "source": [
    "import numpy as np\n",
    "import pandas as pd\n",
    "from scipy.stats import itemfreq\n",
    "from sklearn.tree import DecisionTreeClassifier\n",
    "from pandas_ml import ConfusionMatrix\n",
    "from sklearn.ensemble import RandomForestClassifier\n",
    "\n",
    "# Reading the data from csv\n",
    "train = pd.read_csv(\"C:\\Users\\Anjana\\Downloads\\UK_Road_Accidents_Hotspots_0514\\UK_Road_Accidents_Hotspots_0514.csv\")\n",
    "test = pd.read_csv(\"C:\\Users\\Anjana\\Downloads\\UK_Road_Accidents_Hotspots_0514\\UK_Road_Accidents_Hotspots_2015.csv\")\n",
    "\n",
    "# Training and Test data\n",
    "trainData = pd.DataFrame.as_matrix(train[['Longitude','Latitude','Number_of_Casualties','Day_of_Week','Road_Type','Speed_limit','Light_Conditions','Weather_Conditions','Road_Surface_Conditions','Special_Conditions_at_Site','Urban_or_Rural_Area','Casualty_Class','Casualty_Type','Vehicle_Type','Vehicle_Manoeuvre','Sex_of_Driver','Age_of_Vehicle','Year','Month']])\n",
    "trainTarget = pd.DataFrame.as_matrix(train[['Hotspots']]).ravel()\n",
    "testData = pd.DataFrame.as_matrix(test[['Longitude','Latitude','Number_of_Casualties','Day_of_Week','Road_Type','Speed_limit','Light_Conditions','Weather_Conditions','Road_Surface_Conditions','Special_Conditions_at_Site','Urban_or_Rural_Area','Casualty_Class','Casualty_Type','Vehicle_Type','Vehicle_Manoeuvre','Sex_of_Driver','Age_of_Vehicle','Year','Month']])\n",
    "testTarget = pd.DataFrame.as_matrix(test[['Hotspots']]).ravel()\n",
    "\n",
    "#Applying Decision Tree Classification Algorithm\n",
    "classifier = DecisionTreeClassifier(max_depth=6,criterion='gini',max_features=2)\n",
    "#classifier=RandomForestClassifier()\n",
    "classifier.fit(trainData, trainTarget)\n",
    "#predictedValues1 = classifier.predict(trainData)\n",
    "\n",
    "#classifier.fit(testData, testTarget)\n",
    "#Prediciting test data\n",
    "predictedValues2 = classifier.predict(testData)\n",
    "\n",
    "#Calculating Accuracy of the model\n",
    "#cm1=ConfusionMatrix(trainTarget,predictedValues1)\n",
    "cm2=ConfusionMatrix(testTarget,predictedValues2)\n",
    "\n",
    "#print('\\x1b[1;46m'+'Training Results :'+'\\x1b[0m')\n",
    "#print(itemfreq(predictedValues1))\n",
    "#cm1.print_stats()\n",
    "\n",
    "print('\\x1b[1;46m'+'\\nRandomForestClassifier Test Results :'+'\\x1b[0m')\n",
    "print(itemfreq(predictedValues2))\n",
    "cm2.print_stats()"
   ]
  },
  {
   "cell_type": "code",
   "execution_count": null,
   "metadata": {
    "collapsed": true
   },
   "outputs": [],
   "source": []
  }
 ],
 "metadata": {
  "kernelspec": {
   "display_name": "Python 2",
   "language": "python",
   "name": "python2"
  },
  "language_info": {
   "codemirror_mode": {
    "name": "ipython",
    "version": 2
   },
   "file_extension": ".py",
   "mimetype": "text/x-python",
   "name": "python",
   "nbconvert_exporter": "python",
   "pygments_lexer": "ipython2",
   "version": "2.7.13"
  }
 },
 "nbformat": 4,
 "nbformat_minor": 1
}
